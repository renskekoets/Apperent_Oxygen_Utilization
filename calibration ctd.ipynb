{
 "cells": [
  {
   "cell_type": "code",
   "execution_count": null,
   "id": "0d7805fd",
   "metadata": {},
   "outputs": [],
   "source": [
    "import matplotlib.pyplot as plt\n",
    "import numpy as np\n",
    "import warnings\n",
    "warnings.simplefilter(\"ignore\", UserWarning)\n",
    "import pandas as pd\n",
    "import csv\n",
    "import sys\n",
    "import array\n",
    "import xarray as xr\n",
    "import cmocean.cm as cmocean\n",
    "def write_with_byte_inversion(f, tab):\n",
    "    tab2write = array.array('f', tab.T.flatten())\n",
    "    if sys.byteorder == 'little':\n",
    "        tab2write.byteswap()\n",
    "    f.write(tab2write)\n",
    "\n",
    "dtype=np.float32\n",
    "#topo_adjust to topo wi\n",
    "import matplotlib.pyplot as plt\n",
    "\n",
    "import matplotlib.pyplot as plt\n",
    "from matplotlib.ticker import StrMethodFormatter\n",
    "from matplotlib.ticker import FuncFormatter\n",
    "import pathlib\n",
    "from pathlib import Path\n",
    "import os\n",
    "import netCDF4\n",
    "from netCDF4 import Dataset as nc\n",
    "import glob\n",
    "from glob import glob\n",
    "import glidertools as gt\n",
    "import gsw"
   ]
  },
  {
   "cell_type": "code",
   "execution_count": null,
   "id": "4d66bc57",
   "metadata": {
    "scrolled": false
   },
   "outputs": [],
   "source": [
    "ds_work = xr.open_dataset('ds_clean.nc')\n",
    "ds_work"
   ]
  },
  {
   "cell_type": "code",
   "execution_count": null,
   "id": "4a3c3e80",
   "metadata": {},
   "outputs": [],
   "source": [
    "density_comp = gsw.sigma0(ds_work.salinity, ds_work.temp)\n"
   ]
  },
  {
   "cell_type": "code",
   "execution_count": null,
   "id": "0e611138",
   "metadata": {},
   "outputs": [],
   "source": [
    "# grid\n",
    "depth = np.arange(0,1000,1)\n",
    "latitude = gt.grid_data(ds_work.dives, ds_work.ctd_depth, ds_work.latitude, bins=depth)\n",
    "longitude = gt.grid_data(ds_work.dives, ds_work.ctd_depth, ds_work.longitude, bins= depth)\n",
    "temp = gt.grid_data(ds_work.dives, ds_work.ctd_depth, ds_work.temp, bins= depth)\n",
    "sal = gt.grid_data(ds_work.dives, ds_work.ctd_depth, ds_work.salinity, bins= depth)\n",
    "o2 = gt.grid_data(ds_work.dives, ds_work.ctd_depth, ds_work.o2, bins= depth)\n",
    "p = gt.grid_data(ds_work.dives, ds_work.ctd_depth, ds_work.pressure, bins = depth)\n",
    "density = gt.grid_data(ds_work.dives, ds_work.ctd_depth, density_comp, bins = depth)\n",
    "optodetemp = gt.grid_data(ds_work.dives, ds_work.ctd_depth, ds_work.optode_temp, bins=depth)"
   ]
  },
  {
   "cell_type": "code",
   "execution_count": null,
   "id": "61cf3165",
   "metadata": {},
   "outputs": [],
   "source": [
    "plt.plot(sal.sel(dives=26.5), sal.ctd_depth, label= 'orginal data')\n",
    "#plt.ylim(0,80)\n",
    "#plt.xlim(12,16.5)\n",
    "#plt.gca().invert_yaxis()\n",
    "#plt.plot(sal_f_g.sel(dives=26.5), sal_f_g.ctd_depth, label='filtered data')\n",
    "#plt.ylim(30,50)\n",
    "#plt.xlim(4,7)\n",
    "plt.gca().invert_yaxis()\n",
    "plt.xlabel('Sal')\n",
    "plt.ylabel('Depth')\n",
    "plt.grid()\n",
    "plt.legend()\n",
    "plt.ylim(100,0)"
   ]
  },
  {
   "cell_type": "code",
   "execution_count": null,
   "id": "1bfaf837",
   "metadata": {},
   "outputs": [],
   "source": [
    "# Calculate the mean longitude for each dive\n",
    "mean_longitude_per_dive = longitude.mean(dim='ctd_depth')\n",
    "\n",
    "# Print the mean longitude for each dive\n",
    "#mean_longitude_per_dive\n",
    "\n",
    "# Calculate the mean latititude for each dive\n",
    "mean_latitude_per_dive = latitude.mean(dim='ctd_depth')\n",
    "\n",
    "# Print the mean longitude for each dive\n",
    "#mean_latitude_per_dive"
   ]
  },
  {
   "cell_type": "code",
   "execution_count": null,
   "id": "b5b2163e",
   "metadata": {},
   "outputs": [],
   "source": [
    "temp"
   ]
  },
  {
   "cell_type": "code",
   "execution_count": null,
   "id": "650e9c19",
   "metadata": {},
   "outputs": [],
   "source": [
    "plt.plot(temp.sel(dives=249.5), temp.ctd_depth)\n",
    "plt.plot(temp.sel(dives=250), temp.ctd_depth)\n",
    "plt.xlim(14,18)\n",
    "plt.ylim(0,200)"
   ]
  },
  {
   "cell_type": "code",
   "execution_count": null,
   "id": "0002434d",
   "metadata": {},
   "outputs": [],
   "source": [
    "mean_longitude_per_dive"
   ]
  },
  {
   "cell_type": "code",
   "execution_count": null,
   "id": "b88cae11",
   "metadata": {},
   "outputs": [],
   "source": [
    "# creating new dataset\n",
    "\n",
    "# Extract the data from the DataArray objects\n",
    "temp_data = temp.values\n",
    "salinity_data = sal.values\n",
    "o2_data = o2.values\n",
    "ctd_pressure_data= p.values\n",
    "density_data = density.values\n",
    "optode_temp_data = optodetemp.values\n",
    "#latitude_data = ds_work.latitude.values\n",
    "#longitude_data = ds_work.longitude.values\n",
    "\n",
    "\n",
    "# Get the dimension names for temp, salinity, and o2\n",
    "temp_dims = temp.dims\n",
    "salinity_dims = sal.dims\n",
    "o2_dims = o2.dims\n",
    "ctd_pressure_dims = p.dims\n",
    "density_dims = density.dims\n",
    "optode_temp_dims = optodetemp.dims\n",
    "#latitude_dims = ds_work.latitude_gsm.dims\n",
    "#longitude_dims = ds_work.longitude_gsm.dims\n",
    "\n",
    "\n",
    "# Create the Dataset\n",
    "ds = xr.Dataset(\n",
    "    data_vars=dict(\n",
    "        temp=(temp_dims, temp_data),\n",
    "        salinity=(salinity_dims, salinity_data),\n",
    "        o2=(o2_dims, o2_data),\n",
    "        pressure=(ctd_pressure_dims, ctd_pressure_data),\n",
    "        density=(density_dims, density_data),\n",
    "        optode_temp = (optode_temp_dims, optode_temp_data),\n",
    "        #latitude = (latitude_dims, latitude_data),\n",
    "        #longitude  = (longitude_dims, longitude_data),\n",
    "        \n",
    "    ),\n",
    "    coords=dict(\n",
    "        dives=temp.dives,\n",
    "        depth=temp.ctd_depth,\n",
    "        longitude=mean_longitude_per_dive,\n",
    "        latitude=mean_longitude_per_dive,\n",
    "    ),\n",
    "    attrs=dict(description=\"dataset including gridded data and cleaned variables\"),\n",
    ")\n",
    "\n",
    "# Print the dataset\n",
    "print(ds)"
   ]
  },
  {
   "cell_type": "code",
   "execution_count": null,
   "id": "1a02db39",
   "metadata": {},
   "outputs": [],
   "source": [
    "ds.to_netcdf('ds_gridded.nc')"
   ]
  },
  {
   "cell_type": "code",
   "execution_count": null,
   "id": "e72dbc56",
   "metadata": {},
   "outputs": [],
   "source": [
    "# Convert micromoles per kilogram (μmol/kg) to moles per kilogram (mmol/kg)\n",
    "oxygen_mol_kg = ds.o2 / 1000\n",
    "\n",
    "# density of water (in kg/m³)\n",
    "water_density =  ds.density + 1000\n",
    "\n",
    "# Convert moles per kilogram (mmol/kg) to millimoles per cubic meter (mmol/m³)\n",
    "oxygen_mol_per_kg_to_mmol_per_m3 = oxygen_mol_kg * water_density \n",
    "oxygen_mol_per_kg_to_mmol_per_m3"
   ]
  },
  {
   "cell_type": "code",
   "execution_count": null,
   "id": "5a00d1f6",
   "metadata": {},
   "outputs": [],
   "source": [
    "# creating new dataset\n",
    "\n",
    "# Extract the data from the DataArray objects\n",
    "temp_data = temp.values\n",
    "salinity_data = sal.values\n",
    "o2_data = o2.values\n",
    "ctd_pressure_data= p.values\n",
    "density_data = density.values\n",
    "oxygen_mol_per_kg_to_mmol_per_m3_data = oxygen_mol_per_kg_to_mmol_per_m3.values\n",
    "#latitude_data = ds_work.latitude.values\n",
    "#longitude_data = ds_work.longitude.values\n",
    "\n",
    "\n",
    "# Get the dimension names for temp, salinity, and o2\n",
    "temp_dims = temp.dims\n",
    "salinity_dims = sal.dims\n",
    "o2_dims = o2.dims\n",
    "ctd_pressure_dims = p.dims\n",
    "density_dims = density.dims\n",
    "oxygen_mol_per_kg_to_mmol_per_m3_dims = oxygen_mol_per_kg_to_mmol_per_m3.dims\n",
    "#latitude_dims = ds_work.latitude_gsm.dims\n",
    "#longitude_dims = ds_work.longitude_gsm.dims\n",
    "\n",
    "\n",
    "# Create the Dataset\n",
    "ds_new = xr.Dataset(\n",
    "    data_vars=dict(\n",
    "        temp=(temp_dims, temp_data),\n",
    "        salinity=(salinity_dims, salinity_data),\n",
    "        o2=(o2_dims, o2_data),\n",
    "        pressure=(ctd_pressure_dims, ctd_pressure_data),\n",
    "        density=(density_dims, density_data),\n",
    "        oxygen_mol_per_kg_to_mmol_per_m3 = (oxygen_mol_per_kg_to_mmol_per_m3_dims, oxygen_mol_per_kg_to_mmol_per_m3_data),\n",
    "        #latitude = (latitude_dims, latitude_data),\n",
    "        #longitude  = (longitude_dims, longitude_data),\n",
    "        \n",
    "    ),\n",
    "    coords=dict(\n",
    "        dives=temp.dives,\n",
    "        ctd_depth=temp.ctd_depth,\n",
    "        longitude=mean_longitude_per_dive,\n",
    "        latitude=mean_latitude_per_dive,\n",
    "    ),\n",
    "    attrs=dict(description=\"dataset including gridded data and cleaned variables\"),\n",
    ")\n",
    "\n",
    "# Print the dataset\n",
    "print(ds_new)"
   ]
  },
  {
   "cell_type": "code",
   "execution_count": null,
   "id": "8f5d6646",
   "metadata": {},
   "outputs": [],
   "source": [
    "ds_new"
   ]
  },
  {
   "cell_type": "code",
   "execution_count": null,
   "id": "ec571955",
   "metadata": {},
   "outputs": [],
   "source": [
    "ox_upcast = xr.open_dataset('ox_upcast_data.nc')\n",
    "ox_downcast = xr.open_dataset('ds_ctd_final.nc')"
   ]
  },
  {
   "cell_type": "code",
   "execution_count": null,
   "id": "7d63a0e3",
   "metadata": {},
   "outputs": [],
   "source": [
    "# Extract oxygen data at station 15\n",
    "#oxygenup_station_15 = ox_upcast.sel(station=15)\n",
    "# Extract oxygen data at station 15\n",
    "oxygendown_station_15 = ox_downcast.sel(station=15, cast= 'down')"
   ]
  },
  {
   "cell_type": "code",
   "execution_count": null,
   "id": "566029d3",
   "metadata": {},
   "outputs": [],
   "source": [
    "oxygendown_station_15"
   ]
  },
  {
   "cell_type": "code",
   "execution_count": null,
   "id": "f884baff",
   "metadata": {},
   "outputs": [],
   "source": [
    "# Extract longitude and latitude\n",
    "down_longitude_station_15 = oxygendown_station_15.longitude.values\n",
    "down_latitude_station_15 = oxygendown_station_15.latitude.values\n",
    "\n",
    "print(\"Longitude downtake at Station 15:\", down_longitude_station_15)\n",
    "print(\"Latitude downtake at Station 15:\", down_latitude_station_15)"
   ]
  },
  {
   "cell_type": "code",
   "execution_count": null,
   "id": "2d1a2387",
   "metadata": {},
   "outputs": [],
   "source": [
    "# Filter the dataset for the desired longitude and latitude\n",
    "longitude = down_longitude_station_15\n",
    "latitude = down_latitude_station_15\n",
    "\n",
    "# Select the variable 'oxygen_concentration_mmm3' from the dataset\n",
    "oxygen_concentration = oxygendown_station_15['ox_downcast']\n",
    "\n",
    "# Extract pressure values for station 15\n",
    "pressure_levels_station_15 = oxygendown_station_15.pressure.values\n",
    "\n",
    "# Plot oxygen data against pressure at station 15\n",
    "plt.figure(figsize=(10, 6))\n",
    "plt.plot(pressure_levels_station_15, oxygen_concentration, color='red', label='Station 15 (mmol /m3)' )\n",
    "\n",
    "# Define the proximity threshold (in degrees)\n",
    "proximity_threshold = 0.006 # Adjust as needed\n",
    "\n",
    "# Filter the dataset for data points within the proximity threshold\n",
    "filtered_data = ds_new.where(\n",
    "    (np.abs(ds_new['longitude'] - longitude) < proximity_threshold) &\n",
    "    (np.abs(ds_new['latitude'] - latitude) < proximity_threshold),\n",
    "    drop=True\n",
    ")\n",
    "\n",
    "# Plot dissolved oxygen against pressure for filtered data\n",
    "if len(filtered_data['pressure']) != 0:\n",
    "    plt.plot(filtered_data['pressure'], filtered_data['oxygen_mol_per_kg_to_mmol_per_m3'], label='Seaglider Data (mmol/m3)', color='blue', linestyle='--')\n",
    "\n",
    "\n",
    "plt.xlabel('Pressure')\n",
    "plt.ylabel('Oxygen concentration')\n",
    "plt.title('Oxygen concentration vs Pressure')\n",
    "plt.grid(True)\n",
    "plt.legend()\n",
    "plt.xlim(0, 1000)\n",
    "plt.show()"
   ]
  },
  {
   "cell_type": "code",
   "execution_count": null,
   "id": "47bf9c61",
   "metadata": {},
   "outputs": [],
   "source": [
    "plt.plot(filtered_data.pressure, filtered_data.temp, label= 'glider temp')\n",
    "plt.plot(oxygendown_station_15.pressure, oxygendown_station_15.temp, label='ctd temp')\n",
    "plt.xlim(0, 1000)\n",
    "plt.xlabel('pressure')\n",
    "plt.ylabel('temperature')\n",
    "plt.legend()\n",
    "plt.grid()\n"
   ]
  },
  {
   "cell_type": "code",
   "execution_count": null,
   "id": "3d2a6100",
   "metadata": {},
   "outputs": [],
   "source": [
    "sliced_data = oxygendown_station_15.isel(pressure=slice(999))\n"
   ]
  },
  {
   "cell_type": "code",
   "execution_count": null,
   "id": "1d92d184",
   "metadata": {},
   "outputs": [],
   "source": [
    "sliced_data"
   ]
  },
  {
   "cell_type": "code",
   "execution_count": null,
   "id": "4468679c",
   "metadata": {},
   "outputs": [],
   "source": [
    "filtered_data"
   ]
  },
  {
   "cell_type": "code",
   "execution_count": null,
   "id": "cd638d4e",
   "metadata": {},
   "outputs": [],
   "source": [
    "ds2=filtered_data.copy()\n",
    "ds2=ds2.rename_vars({\"pressure\":\"P\"})\n",
    "ds2=ds2.rename_dims({\"ctd_depth\":\"pressure\"})\n",
    "ds2[\"ctd_depth\"]=ds2.ctd_depth-0.5\n",
    "ds2"
   ]
  },
  {
   "cell_type": "code",
   "execution_count": null,
   "id": "d20b900d",
   "metadata": {},
   "outputs": [],
   "source": [
    "filtered_data"
   ]
  },
  {
   "cell_type": "code",
   "execution_count": null,
   "id": "f82d547b",
   "metadata": {},
   "outputs": [],
   "source": [
    "plt.plot(filtered_data.pressure, filtered_data.ctd_depth)"
   ]
  },
  {
   "cell_type": "code",
   "execution_count": null,
   "id": "cf7c5466",
   "metadata": {},
   "outputs": [],
   "source": [
    "sliced_data['ox_downcast'] = sliced_data.ox_downcast.where(np.abs(sliced_data.temp - ds2.temp) < 0.1)\n",
    "\n",
    "ds2['o2'] = ds2.o2.where(np.abs(sliced_data.temp - ds2.temp) < 0.1)\n",
    "\n",
    "#oxygendown_station_15['ox_downcast'] = oxygendown_station_15.ox_downcast.where(oxygendown_station_15.temp < 18.0)\n",
    "#filtered_data['o2'] = filtered_data.o2.where(np.abs(oxygendown_station_15.temp - filtered_data.temp) < 0.1)\n",
    "\n"
   ]
  },
  {
   "cell_type": "code",
   "execution_count": null,
   "id": "107c1bde",
   "metadata": {},
   "outputs": [],
   "source": [
    "plt.scatter(ds2.o2,sliced_data.ox_downcast.values)\n",
    "plt.xlabel('ox glider')\n",
    "plt.ylabel('ctd ox')\n",
    "plt.plot([140,210],[140,210])\n",
    "#plt.plot(sliced_data.pressure.values,sliced_data.ox_downcast.values)\n",
    "\n",
    "#plt.plot(ds2.pressure.values,ds2.o2)\n",
    "\n",
    "#plt.gca().invert_yaxis()"
   ]
  },
  {
   "cell_type": "code",
   "execution_count": null,
   "id": "e947ee0a",
   "metadata": {},
   "outputs": [],
   "source": [
    "offset = (sliced_data.ox_downcast - ds2.o2).mean()\n",
    "offset"
   ]
  },
  {
   "cell_type": "code",
   "execution_count": null,
   "id": "bde21c05",
   "metadata": {},
   "outputs": [],
   "source": [
    "ds[\"o2\"]=ds.o2+offset \n",
    "\n",
    "ds"
   ]
  },
  {
   "cell_type": "code",
   "execution_count": null,
   "id": "a0792e48",
   "metadata": {},
   "outputs": [],
   "source": [
    "# Drop the unwanted variables from the dataset\n",
    "filtered_data = ds.drop_vars(['cast', 'station', 'max_pressure', 'depth'])\n",
    "filtered_data"
   ]
  },
  {
   "cell_type": "code",
   "execution_count": null,
   "id": "ce6ce314",
   "metadata": {},
   "outputs": [],
   "source": [
    "plt.figure(figsize=(12, 6))\n",
    "\n",
    "\n",
    "plt.pcolormesh(filtered_data.dives, filtered_data.ctd_depth, filtered_data.o2)\n",
    "\n",
    "\n",
    "#plt.figure(figsize=(12, 6))\n",
    "\n",
    "# Add colorbar\n",
    "plt.colorbar(label='Dissolved Oxygen (micromoles/kg)')\n",
    "\n",
    "\n",
    "# Add labels and title\n",
    "plt.xlabel('Dives', fontsize=12)\n",
    "plt.ylabel('Depth (m)', fontsize=12)\n",
    "\n",
    "# Invert y-axis\n",
    "plt.gca().invert_yaxis()\n",
    "#plt.plot()\n"
   ]
  },
  {
   "cell_type": "code",
   "execution_count": null,
   "id": "b585cf9b",
   "metadata": {},
   "outputs": [],
   "source": [
    "\n",
    "plt.plot(oxygendown_station_15.pressure.values,oxygendown_station_15.ox_downcast.values)\n",
    "plt.xlim(0,1000)\n",
    "\n",
    "plt.plot(filtered_data.pressure.values,filtered_data.o2.sel(dives=9.5).values)\n",
    "#plt.legend()\n",
    "\n",
    "plt.gca().invert_yaxis()\n",
    "plt.plot()\n"
   ]
  },
  {
   "cell_type": "code",
   "execution_count": null,
   "id": "cd39f8e3",
   "metadata": {},
   "outputs": [],
   "source": [
    "filtered_data.to_netcdf('ds_calibrated.nc')"
   ]
  },
  {
   "cell_type": "code",
   "execution_count": null,
   "id": "0a6f667b",
   "metadata": {},
   "outputs": [],
   "source": []
  }
 ],
 "metadata": {
  "kernelspec": {
   "display_name": "Python 3 (ipykernel)",
   "language": "python",
   "name": "python3"
  },
  "language_info": {
   "codemirror_mode": {
    "name": "ipython",
    "version": 3
   },
   "file_extension": ".py",
   "mimetype": "text/x-python",
   "name": "python",
   "nbconvert_exporter": "python",
   "pygments_lexer": "ipython3",
   "version": "3.11.4"
  }
 },
 "nbformat": 4,
 "nbformat_minor": 5
}
