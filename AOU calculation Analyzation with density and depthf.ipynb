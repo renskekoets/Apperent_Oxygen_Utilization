{
 "cells": [
  {
   "cell_type": "code",
   "execution_count": null,
   "id": "c20ad532",
   "metadata": {},
   "outputs": [],
   "source": [
    "import matplotlib.pyplot as plt\n",
    "import numpy as np\n",
    "import warnings\n",
    "warnings.simplefilter(\"ignore\", UserWarning)\n",
    "import pandas as pd\n",
    "import csv\n",
    "import sys\n",
    "import array\n",
    "import xarray as xr\n",
    "import cmocean.cm as cmocean\n",
    "def write_with_byte_inversion(f, tab):\n",
    "    tab2write = array.array('f', tab.T.flatten())\n",
    "    if sys.byteorder == 'little':\n",
    "        tab2write.byteswap()\n",
    "    f.write(tab2write)\n",
    "\n",
    "dtype=np.float32\n",
    "#topo_adjust to topo wi\n",
    "import matplotlib.pyplot as plt\n",
    "\n",
    "import matplotlib.pyplot as plt\n",
    "from matplotlib.ticker import StrMethodFormatter\n",
    "from matplotlib.ticker import FuncFormatter\n",
    "import pathlib\n",
    "from pathlib import Path\n",
    "import os\n",
    "import netCDF4\n",
    "from netCDF4 import Dataset as nc\n",
    "import glob\n",
    "from glob import glob\n",
    "import glidertools as gt\n",
    "import gsw"
   ]
  },
  {
   "cell_type": "code",
   "execution_count": null,
   "id": "3c87b8dc",
   "metadata": {},
   "outputs": [],
   "source": [
    "ds_work = xr.open_dataset('ds_workfinal.nc')\n",
    "ds_work"
   ]
  },
  {
   "cell_type": "markdown",
   "id": "287987ca",
   "metadata": {},
   "source": [
    "# grid depth"
   ]
  },
  {
   "cell_type": "code",
   "execution_count": null,
   "id": "3b5cf7ec",
   "metadata": {},
   "outputs": [],
   "source": [
    "# grid\n",
    "depth = np.arange(0,1000,1)\n",
    "latitude = gt.grid_data(ds_work.dives, ds_work.ctd_depth, ds_work.latitude_gsm, bins=depth)\n",
    "longitude = gt.grid_data(ds_work.dives, ds_work.ctd_depth, ds_work.longitude_gsm, bins=depth)\n",
    "ctd_pressure = gt.grid_data(ds_work.dives, ds_work.ctd_depth, ds_work.ctd_pressure, bins=depth)\n",
    "o2 = gt.grid_data(ds_work.dives, ds_work.ctd_depth, ds_work.aanderaa4831_dissolved_oxygen, bins=depth)\n",
    "salinity = gt.grid_data(ds_work.dives, ds_work.ctd_depth, ds_work.absolute_salinity, bins=depth)\n",
    "temp = gt.grid_data(ds_work.dives, ds_work.ctd_depth, ds_work.conservative_temperature, bins=depth)\n",
    "sol = gt.grid_data(ds_work.dives, ds_work.ctd_depth, ds_work.dissolved_oxygen_sat, bins=depth)"
   ]
  },
  {
   "cell_type": "markdown",
   "id": "d31764f4",
   "metadata": {},
   "source": [
    "# grid on density for 1 profile "
   ]
  },
  {
   "cell_type": "code",
   "execution_count": null,
   "id": "2f5b0093",
   "metadata": {},
   "outputs": [],
   "source": [
    "temp_profile = temp.isel(dives=100)\n",
    "salt_profile = salinity.isel(dives=100)\n",
    "\n",
    "density_profile = gsw.sigma0(salt_profile, temp_profile)"
   ]
  },
  {
   "cell_type": "code",
   "execution_count": null,
   "id": "b16d8705",
   "metadata": {},
   "outputs": [],
   "source": [
    "fig, ax = plt.subplots(1,3,figsize=(10,3))\n",
    "\n",
    "ax[0].plot(temp_profile, temp.ctd_depth)\n",
    "ax[1].plot(salt_profile, salinity.ctd_depth)\n",
    "ax[2].plot(density_profile, salinity.ctd_depth)\n",
    "\n",
    "for a in ax:\n",
    "    a.set_ylim(1000, 0)"
   ]
  },
  {
   "cell_type": "code",
   "execution_count": null,
   "id": "bec8f914",
   "metadata": {},
   "outputs": [],
   "source": [
    "den_grid = np.arange(25, 28.01, 0.01)"
   ]
  },
  {
   "cell_type": "code",
   "execution_count": null,
   "id": "616048be",
   "metadata": {},
   "outputs": [],
   "source": [
    "from scipy.interpolate import griddata"
   ]
  },
  {
   "cell_type": "code",
   "execution_count": null,
   "id": "80eadfb3",
   "metadata": {},
   "outputs": [],
   "source": [
    "ind_sort = np.argsort(density_profile.data)\n",
    "den_sort = np.sort(density_profile.data)\n",
    "\n",
    "temp_sort = griddata(den_sort, temp_profile[ind_sort], den_grid)\n",
    "salt_sort = griddata(den_sort, salt_profile[ind_sort], den_grid)"
   ]
  },
  {
   "cell_type": "code",
   "execution_count": null,
   "id": "c64bd443",
   "metadata": {},
   "outputs": [],
   "source": [
    "fig, ax = plt.subplots(1,2,figsize=(6,3))\n",
    "\n",
    "ax[0].plot(temp_sort, den_grid)\n",
    "ax[1].plot(salt_sort, den_grid)\n",
    "\n",
    "for a in ax:\n",
    "    a.set_ylim(28, 25)"
   ]
  },
  {
   "cell_type": "markdown",
   "id": "bb8710d1",
   "metadata": {},
   "source": [
    "# grid density for all variables"
   ]
  },
  {
   "cell_type": "code",
   "execution_count": null,
   "id": "e6a62c4d",
   "metadata": {},
   "outputs": [],
   "source": [
    "den_grid = np.arange(24, 28.01, 0.01)"
   ]
  },
  {
   "cell_type": "code",
   "execution_count": null,
   "id": "1be9ac71",
   "metadata": {},
   "outputs": [],
   "source": [
    "density = gsw.sigma0(salinity, temp)"
   ]
  },
  {
   "cell_type": "code",
   "execution_count": null,
   "id": "6121cfdb",
   "metadata": {},
   "outputs": [],
   "source": [
    "density.plot()"
   ]
  },
  {
   "cell_type": "code",
   "execution_count": null,
   "id": "f878cb3b",
   "metadata": {},
   "outputs": [],
   "source": [
    "def grid_to_den(density, var, den_grid):\n",
    "    \n",
    "    var_grid = np.ndarray([var.dives.size, den_grid.size])\n",
    "    \n",
    "    for v in range(var.dives.size):\n",
    "        \n",
    "        density_profile = density.isel(dives=v)\n",
    "        var_profile = var.isel(dives=v)\n",
    "    \n",
    "        ind_sort = np.argsort(density_profile.data)\n",
    "        den_sort = np.sort(density_profile.data)\n",
    "\n",
    "        var_grid[v] = griddata(den_sort, var_profile[ind_sort], den_grid)\n",
    "        \n",
    "    return var_grid"
   ]
  },
  {
   "cell_type": "code",
   "execution_count": null,
   "id": "302e423e",
   "metadata": {},
   "outputs": [],
   "source": [
    "ox_sol = gsw.O2sol(salinity, temp, ctd_pressure, longitude, latitude)"
   ]
  },
  {
   "cell_type": "code",
   "execution_count": null,
   "id": "3a4a2071",
   "metadata": {},
   "outputs": [],
   "source": [
    "temp_den_grid = grid_to_den(density, temp, den_grid)\n",
    "sal_den_grid = grid_to_den(density, salinity, den_grid)\n",
    "ox_den_grid = grid_to_den(density, o2, den_grid)\n",
    "sol_den_grid = grid_to_den(density, ox_sol, den_grid)"
   ]
  },
  {
   "cell_type": "markdown",
   "id": "9ed426b4",
   "metadata": {},
   "source": [
    "# results variables against density"
   ]
  },
  {
   "cell_type": "code",
   "execution_count": null,
   "id": "67204cbc",
   "metadata": {},
   "outputs": [],
   "source": [
    "fig,ax = plt.subplots(figsize=(10,4))\n",
    "\n",
    "img=ax.pcolormesh(density.dives, den_grid, temp_den_grid.T)\n",
    "\n",
    "# Add labels and title\n",
    "plt.xlabel('Dives', fontsize=12)\n",
    "plt.ylabel('density', fontsize=12)\n",
    "plt.title('Temperature')\n",
    "\n",
    "ax.invert_yaxis()\n",
    "\n",
    "plt.colorbar(img)"
   ]
  },
  {
   "cell_type": "code",
   "execution_count": null,
   "id": "4a922b50",
   "metadata": {},
   "outputs": [],
   "source": [
    "fig,ax = plt.subplots(figsize=(10,4))\n",
    "\n",
    "img=ax.pcolormesh(density.dives, den_grid, sal_den_grid.T)\n",
    "\n",
    "# Add labels and title\n",
    "plt.xlabel('Dives', fontsize=12)\n",
    "plt.ylabel('density', fontsize=12)\n",
    "plt.title('Salinity')\n",
    "\n",
    "ax.invert_yaxis()\n",
    "\n",
    "plt.colorbar(img)"
   ]
  },
  {
   "cell_type": "code",
   "execution_count": null,
   "id": "65932c00",
   "metadata": {},
   "outputs": [],
   "source": [
    "fig,ax = plt.subplots(figsize=(10,4))\n",
    "\n",
    "img=ax.pcolormesh(density.dives, den_grid, ox_den_grid.T)\n",
    "\n",
    "# Add labels and title\n",
    "plt.xlabel('Dives', fontsize=12)\n",
    "plt.ylabel('density', fontsize=12)\n",
    "plt.title('Oxygen')\n",
    "\n",
    "ax.invert_yaxis()\n",
    "\n",
    "plt.colorbar(img)"
   ]
  },
  {
   "cell_type": "code",
   "execution_count": null,
   "id": "99c6a054",
   "metadata": {},
   "outputs": [],
   "source": [
    "fig,ax = plt.subplots(figsize=(10,4))\n",
    "\n",
    "img=ax.pcolormesh(density.dives, den_grid, sol_den_grid.T)\n",
    "\n",
    "# Add labels and title\n",
    "plt.xlabel('Dives', fontsize=12)\n",
    "plt.ylabel('density', fontsize=12)\n",
    "plt.title('Solubility using gsw')\n",
    "\n",
    "ax.invert_yaxis()\n",
    "\n",
    "plt.colorbar(img)"
   ]
  },
  {
   "cell_type": "code",
   "execution_count": null,
   "id": "fd6e0a4c",
   "metadata": {},
   "outputs": [],
   "source": [
    "AOU_den_grid = sol_den_grid - ox_den_grid"
   ]
  },
  {
   "cell_type": "code",
   "execution_count": null,
   "id": "2eaacd21",
   "metadata": {},
   "outputs": [],
   "source": [
    "fig,ax = plt.subplots(figsize=(10,4))\n",
    "\n",
    "img=ax.pcolormesh(density.dives, den_grid, AOU_den_grid.T)\n",
    "\n",
    "# Add labels and title\n",
    "plt.xlabel('Dives', fontsize=12)\n",
    "plt.ylabel('density', fontsize=12)\n",
    "plt.title('AOU')\n",
    "\n",
    "\n",
    "ax.invert_yaxis()\n",
    "\n",
    "plt.colorbar(img)"
   ]
  },
  {
   "cell_type": "markdown",
   "id": "0e06089b",
   "metadata": {},
   "source": [
    "# solubility"
   ]
  },
  {
   "cell_type": "code",
   "execution_count": null,
   "id": "a1f289a2",
   "metadata": {},
   "outputs": [],
   "source": [
    "ox_sol = gsw.O2sol(salinity, temp, ctd_pressure, longitude, latitude)"
   ]
  },
  {
   "cell_type": "code",
   "execution_count": null,
   "id": "4a899014",
   "metadata": {},
   "outputs": [],
   "source": [
    "ox_sol"
   ]
  },
  {
   "cell_type": "code",
   "execution_count": null,
   "id": "0dfa497b",
   "metadata": {},
   "outputs": [],
   "source": [
    "x = np.array(ds_work.dives)  # ensures these are arrays\n",
    "y = np.array(ds_work.ctd_depth)\n",
    "\n",
    "gt.plot(x, y, ds_work.dissolved_oxygen_sat)\n"
   ]
  },
  {
   "cell_type": "code",
   "execution_count": null,
   "id": "3f59af88",
   "metadata": {},
   "outputs": [],
   "source": [
    "gt.plot(x,y, ds_work.aanderaa4831_dissolved_oxygen)"
   ]
  },
  {
   "cell_type": "code",
   "execution_count": null,
   "id": "adbb9c0b",
   "metadata": {},
   "outputs": [],
   "source": [
    "# pcolormesh graph\n",
    "plt.pcolormesh(ox_sol.dives, ox_sol.ctd_depth, ox_sol)\n",
    "\n",
    "# Add colorbar\n",
    "plt.colorbar(label='Solubility Oxygen (micromoles/kg)')\n",
    "\n",
    "# Add labels and title\n",
    "plt.xlabel('Dives', fontsize=12)\n",
    "plt.ylabel('Depth (m)', fontsize=12)\n",
    "\n",
    "# Invert y-axis\n",
    "plt.gca().invert_yaxis()"
   ]
  },
  {
   "cell_type": "code",
   "execution_count": null,
   "id": "eaacd8cf",
   "metadata": {},
   "outputs": [],
   "source": [
    "# pcolormesh graph\n",
    "plt.pcolormesh(sol.dives, sol.ctd_depth, sol)\n",
    "\n",
    "# Add colorbar\n",
    "plt.colorbar(label='Solubility Oxygen (micromoles/kg)')\n",
    "\n",
    "# Add labels and title\n",
    "plt.xlabel('Dives', fontsize=12)\n",
    "plt.ylabel('Depth (m)', fontsize=12)\n",
    "\n",
    "# Invert y-axis\n",
    "plt.gca().invert_yaxis()"
   ]
  },
  {
   "cell_type": "code",
   "execution_count": null,
   "id": "46cd5ba0",
   "metadata": {},
   "outputs": [],
   "source": [
    "import matplotlib.pyplot as plt\n",
    "import numpy as np\n",
    "\n",
    "# Assuming ox_sol and sol are your data arrays\n",
    "\n",
    "# Calculate the difference\n",
    "difference =  sol - ox_sol\n",
    "\n",
    "# Plot the difference using pcolormesh\n",
    "plt.pcolormesh(ox_sol.dives, ox_sol.ctd_depth, difference)\n",
    "\n",
    "# Add colorbar\n",
    "plt.colorbar(label='Diff Solubility Oxygen (micromoles/kg)')\n",
    "\n",
    "# Add labels and title\n",
    "plt.xlabel('Dives', fontsize=12)\n",
    "plt.ylabel('Depth (m)', fontsize=12)\n",
    "plt.title('solubility dataset - TEOS-10 gsw')\n",
    "\n",
    "# Invert y-axis\n",
    "plt.gca().invert_yaxis()\n",
    "\n",
    "# Show plot\n",
    "plt.show()\n"
   ]
  },
  {
   "cell_type": "code",
   "execution_count": null,
   "id": "0d964cc7",
   "metadata": {},
   "outputs": [],
   "source": [
    "AOU = sol - o2\n",
    "AOU"
   ]
  },
  {
   "cell_type": "code",
   "execution_count": null,
   "id": "33074710",
   "metadata": {},
   "outputs": [],
   "source": [
    "# pcolormesh graph\n",
    "plt.pcolormesh(AOU.dives, AOU.ctd_depth, AOU)\n",
    "\n",
    "# Add colorbar\n",
    "plt.colorbar(label='AOU (micromoles/kg)')\n",
    "\n",
    "# Add labels and title\n",
    "plt.xlabel('Dives', fontsize=12)\n",
    "plt.ylabel('Depth (m)', fontsize=12)\n",
    "\n",
    "# Invert y-axis\n",
    "plt.gca().invert_yaxis()"
   ]
  }
 ],
 "metadata": {
  "kernelspec": {
   "display_name": "Python 3 (ipykernel)",
   "language": "python",
   "name": "python3"
  },
  "language_info": {
   "codemirror_mode": {
    "name": "ipython",
    "version": 3
   },
   "file_extension": ".py",
   "mimetype": "text/x-python",
   "name": "python",
   "nbconvert_exporter": "python",
   "pygments_lexer": "ipython3",
   "version": "3.11.4"
  }
 },
 "nbformat": 4,
 "nbformat_minor": 5
}
